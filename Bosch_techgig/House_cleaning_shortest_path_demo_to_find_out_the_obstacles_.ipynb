{
  "nbformat": 4,
  "nbformat_minor": 0,
  "metadata": {
    "colab": {
      "name": "House cleaning shortest path demo to find out the obstacles .ipynb",
      "provenance": []
    },
    "kernelspec": {
      "name": "python3",
      "display_name": "Python 3"
    },
    "language_info": {
      "name": "python"
    }
  },
  "cells": [
    {
      "cell_type": "code",
      "metadata": {
        "colab": {
          "base_uri": "https://localhost:8080/"
        },
        "id": "H25KPGOI38kG",
        "outputId": "1abf4300-45be-4d35-be59-a8e032d55b8e"
      },
      "source": [
        "tree = {'S': [['A', 1], ['B', 5], ['C', 8]],\n",
        "        'A': [['S', 1], ['D', 3], ['E', 7], ['G', 9]],\n",
        "        'B': [['S', 5], ['G', 4]],\n",
        "        'C': [['S', 8], ['G', 5]],\n",
        "        'D': [['A', 3]],\n",
        "        'E': [['A', 7]]}\n",
        "\n",
        "tree2 = {'S': [['A', 1], ['B', 2]],\n",
        "         'A': [['S', 1]],\n",
        "         'B': [['S', 2], ['C', 3], ['D', 4]],\n",
        "         'C': [['B', 2], ['E', 5], ['F', 6]],\n",
        "         'D': [['B', 4], ['G', 7]],\n",
        "         'E': [['C', 5]],\n",
        "         'F': [['C', 6]]\n",
        "         }\n",
        "\n",
        "heuristic = {'S': 8, 'A': 8, 'B': 4, 'C': 3, 'D': 5000, 'E': 5000, 'G': 0}\n",
        "heuristic2 = {'S': 0, 'A': 5000, 'B': 2, 'C': 3, 'D': 4, 'E': 5000, 'F': 5000, 'G': 0}\n",
        "\n",
        "cost = {'S': 0}            \n",
        "\n",
        "\n",
        "def AStarSearch():\n",
        "    global tree, heuristic\n",
        "    closed = []             \n",
        "    opened = [['S', 8]]     \n",
        "    while True:\n",
        "        fn = [i[1] for i in opened]     \n",
        "        chosen_index = fn.index(min(fn))\n",
        "        node = opened[chosen_index][0]  \n",
        "        closed.append(opened[chosen_index])\n",
        "        del opened[chosen_index]\n",
        "        if closed[-1][0] == 'G':       \n",
        "            break\n",
        "        for item in tree[node]:\n",
        "            if item[0] in [closed_item[0] for closed_item in closed]:\n",
        "                continue\n",
        "            cost.update({item[0]: cost[node] + item[1]})            \n",
        "            fn_node = cost[node] + heuristic[item[0]] + item[1]     \n",
        "            temp = [item[0], fn_node]\n",
        "            opened.append(temp)                                     \n",
        "\n",
        "    trace_node = 'G'\n",
        "    optimal_sequence = ['G']               \n",
        "    for i in range(len(closed)-2, -1, -1):\n",
        "        check_node = closed[i][0]          \n",
        "        if trace_node in [children[0] for children in tree[check_node]]:\n",
        "            children_costs = [temp[1] for temp in tree[check_node]]\n",
        "            children_nodes = [temp[0] for temp in tree[check_node]]\n",
        "            if cost[check_node] + children_costs[children_nodes.index(trace_node)] == cost[trace_node]:\n",
        "                optimal_sequence.append(check_node)\n",
        "                trace_node = check_node\n",
        "    optimal_sequence.reverse()             \n",
        "\n",
        "    return closed, optimal_sequence\n",
        "\n",
        "\n",
        "if __name__ == '__main__':\n",
        "    visited_nodes, optimal_nodes = AStarSearch()\n",
        "    print('visited nodes: ' + str(visited_nodes))\n",
        "    print('optimal nodes sequence: ' + str(optimal_nodes))"
      ],
      "execution_count": 2,
      "outputs": [
        {
          "output_type": "stream",
          "text": [
            "visited nodes: [['S', 8], ['A', 9], ['B', 9], ['G', 9]]\n",
            "optimal nodes sequence: ['S', 'B', 'G']\n"
          ],
          "name": "stdout"
        }
      ]
    },
    {
      "cell_type": "code",
      "metadata": {
        "id": "nm6Foz0539si"
      },
      "source": [
        ""
      ],
      "execution_count": null,
      "outputs": []
    }
  ]
}